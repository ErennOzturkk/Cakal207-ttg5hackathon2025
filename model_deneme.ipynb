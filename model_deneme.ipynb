{
 "cells": [
  {
   "cell_type": "code",
   "execution_count": 1,
   "id": "f32291a0",
   "metadata": {},
   "outputs": [
    {
     "name": "stdout",
     "output_type": "stream",
     "text": [
      "ultralytics kütüphanesi yüklü: 8.3.141\n"
     ]
    }
   ],
   "source": [
    "import os\n",
    "import yaml\n",
    "import matplotlib.pyplot as plt\n",
    "from PIL import Image\n",
    "import numpy as np\n",
    "from ultralytics import YOLO\n",
    "import json\n",
    "\n",
    "# %%\n",
    "# 1. Gerekli Kütüphanelerin Kurulumu ve Kontrolü\n",
    "# Eğer Google Colab kullanıyorsanız, bu komutu çalıştırın.\n",
    "# Eğer kendi yerel ortamınızda çalışıyorsanız ve GPU'nuz varsa, CUDA sürücülerinin doğru şekilde yüklü olduğundan emin olun.\n",
    "# pip install ultralytics -q\n",
    "\n",
    "try:\n",
    "    import ultralytics\n",
    "    print(f\"ultralytics kütüphanesi yüklü: {ultralytics.__version__}\")\n",
    "except ImportError:\n",
    "    print(\"ultralytics kütüphanesi yüklü değil. Lütfen 'pip install ultralytics' komutunu çalıştırın.\")\n",
    "\n",
    "# %%"
   ]
  },
  {
   "cell_type": "code",
   "execution_count": null,
   "id": "38a7d639",
   "metadata": {},
   "outputs": [],
   "source": []
  },
  {
   "cell_type": "code",
   "execution_count": null,
   "id": "443bfcd4",
   "metadata": {},
   "outputs": [],
   "source": [
    "# 2. Veri Seti Hazırlığı - Klasör Yapısı ve data.yaml Oluşturma\n",
    "import os\n",
    "import yaml\n",
    "# Veri setinizin ana klasörünü belirleyin\n",
    "dataset_path = 'dataset'\n",
    "\n",
    "# Görüntü ve etiket yolları\n",
    "train_images_path = os.path.join(dataset_path, 'images', 'train')\n",
    "val_images_path = os.path.join(dataset_path, 'images', 'val')\n",
    "test_images_path = os.path.join(dataset_path, 'images', 'test')\n",
    "\n",
    "# Gerekli klasörleri oluştur\n",
    "os.makedirs(train_images_path, exist_ok=True)\n",
    "os.makedirs(val_images_path, exist_ok=True)\n",
    "os.makedirs(test_images_path, exist_ok=True)\n",
    "os.makedirs(os.path.join(dataset_path, 'labels', 'train'), exist_ok=True)\n",
    "os.makedirs(os.path.join(dataset_path, 'labels', 'val'), exist_ok=True)\n",
    "os.makedirs(os.path.join(dataset_path, 'labels', 'test'), exist_ok=True)\n",
    "\n",
    "# Sınıf isimleri (etiketlemede kullandığınız class_id'lere karşılık gelmeli)\n",
    "class_names = [\n",
    "    'saglam_ped',\n",
    "    'renk_degisimi',\n",
    "    'leke',\n",
    "    'yapi_bozulmasi',\n",
    "    'kesim_hatasi'\n",
    "]\n",
    "\n",
    "# data.yaml içeriği\n",
    "data_yaml_content = {\n",
    "    'path': os.path.abspath(dataset_path), # Ana veri seti yolu (mutlak yol)\n",
    "    'train': 'images/train',\n",
    "    'val': 'images/val',\n",
    "    'test': 'images/test',\n",
    "    'nc': len(class_names),\n",
    "    'names': class_names\n",
    "}\n",
    "\n",
    "# data.yaml dosyasını oluştur\n",
    "yaml_file_path = 'data.yaml'\n",
    "with open(yaml_file_path, 'w') as file:\n",
    "    yaml.dump(data_yaml_content, file, default_flow_style=False)\n",
    "\n",
    "print(f\"{yaml_file_path} dosyası başarıyla oluşturuldu.\")\n",
    "print(f\"İçerik:\\n{yaml.dump(data_yaml_content, default_flow_style=False)}\")\n",
    "print(\"\\nLütfen görüntülerinizi 'dataset/images/' altındaki ilgili klasörlere,\")\n",
    "print(\"etiket dosyalarınızı (YOLO formatında .txt) 'dataset/labels/' altındaki ilgili klasörlere yerleştirin.\")\n",
    "\n",
    "# %%"
   ]
  },
  {
   "cell_type": "code",
   "execution_count": 5,
   "id": "e4db0138",
   "metadata": {},
   "outputs": [
    {
     "name": "stdout",
     "output_type": "stream",
     "text": [
      "Ultralytics 8.3.141  Python-3.9.13 torch-2.7.0+cpu CPU (Intel Core(TM) i7-9750H 2.60GHz)\n",
      "\u001b[34m\u001b[1mengine\\trainer: \u001b[0magnostic_nms=False, amp=True, augment=False, auto_augment=randaugment, batch=16, bgr=0.0, box=7.5, cache=False, cfg=None, classes=None, close_mosaic=10, cls=0.5, conf=None, copy_paste=0.0, copy_paste_mode=flip, cos_lr=False, cutmix=0.0, data=C:\\Users\\EREN\\Desktop\\HACKATHON\\data.yaml, degrees=0.0, deterministic=True, device=cpu, dfl=1.5, dnn=False, dropout=0.0, dynamic=False, embed=None, epochs=50, erasing=0.4, exist_ok=True, fliplr=0.5, flipud=0.0, format=torchscript, fraction=1.0, freeze=None, half=False, hsv_h=0.015, hsv_s=0.7, hsv_v=0.4, imgsz=640, int8=False, iou=0.7, keras=False, kobj=1.0, line_width=None, lr0=0.001, lrf=0.01, mask_ratio=4, max_det=300, mixup=0.0, mode=train, model=yolov8n.pt, momentum=0.937, mosaic=1.0, multi_scale=False, name=yolov8n_custom_dataset, nbs=64, nms=False, opset=None, optimize=False, optimizer=AdamW, overlap_mask=True, patience=20, perspective=0.0, plots=True, pose=12.0, pretrained=True, profile=False, project=eye_pad_quality_control, rect=False, resume=False, retina_masks=False, save=True, save_conf=False, save_crop=False, save_dir=eye_pad_quality_control\\yolov8n_custom_dataset, save_frames=False, save_json=False, save_period=-1, save_txt=False, scale=0.5, seed=0, shear=0.0, show=False, show_boxes=True, show_conf=True, show_labels=True, simplify=True, single_cls=False, source=None, split=val, stream_buffer=False, task=detect, time=None, tracker=botsort.yaml, translate=0.1, val=True, verbose=True, vid_stride=1, visualize=False, warmup_bias_lr=0.1, warmup_epochs=3.0, warmup_momentum=0.8, weight_decay=0.0005, workers=8, workspace=None\n",
      "Overriding model.yaml nc=80 with nc=5\n",
      "\n",
      "                   from  n    params  module                                       arguments                     \n",
      "  0                  -1  1       464  ultralytics.nn.modules.conv.Conv             [3, 16, 3, 2]                 \n",
      "  1                  -1  1      4672  ultralytics.nn.modules.conv.Conv             [16, 32, 3, 2]                \n",
      "  2                  -1  1      7360  ultralytics.nn.modules.block.C2f             [32, 32, 1, True]             \n",
      "  3                  -1  1     18560  ultralytics.nn.modules.conv.Conv             [32, 64, 3, 2]                \n",
      "  4                  -1  2     49664  ultralytics.nn.modules.block.C2f             [64, 64, 2, True]             \n",
      "  5                  -1  1     73984  ultralytics.nn.modules.conv.Conv             [64, 128, 3, 2]               \n",
      "  6                  -1  2    197632  ultralytics.nn.modules.block.C2f             [128, 128, 2, True]           \n",
      "  7                  -1  1    295424  ultralytics.nn.modules.conv.Conv             [128, 256, 3, 2]              \n",
      "  8                  -1  1    460288  ultralytics.nn.modules.block.C2f             [256, 256, 1, True]           \n",
      "  9                  -1  1    164608  ultralytics.nn.modules.block.SPPF            [256, 256, 5]                 \n",
      " 10                  -1  1         0  torch.nn.modules.upsampling.Upsample         [None, 2, 'nearest']          \n",
      " 11             [-1, 6]  1         0  ultralytics.nn.modules.conv.Concat           [1]                           \n",
      " 12                  -1  1    148224  ultralytics.nn.modules.block.C2f             [384, 128, 1]                 \n",
      " 13                  -1  1         0  torch.nn.modules.upsampling.Upsample         [None, 2, 'nearest']          \n",
      " 14             [-1, 4]  1         0  ultralytics.nn.modules.conv.Concat           [1]                           \n",
      " 15                  -1  1     37248  ultralytics.nn.modules.block.C2f             [192, 64, 1]                  \n",
      " 16                  -1  1     36992  ultralytics.nn.modules.conv.Conv             [64, 64, 3, 2]                \n",
      " 17            [-1, 12]  1         0  ultralytics.nn.modules.conv.Concat           [1]                           \n",
      " 18                  -1  1    123648  ultralytics.nn.modules.block.C2f             [192, 128, 1]                 \n",
      " 19                  -1  1    147712  ultralytics.nn.modules.conv.Conv             [128, 128, 3, 2]              \n",
      " 20             [-1, 9]  1         0  ultralytics.nn.modules.conv.Concat           [1]                           \n",
      " 21                  -1  1    493056  ultralytics.nn.modules.block.C2f             [384, 256, 1]                 \n",
      " 22        [15, 18, 21]  1    752287  ultralytics.nn.modules.head.Detect           [5, [64, 128, 256]]           \n",
      "Model summary: 129 layers, 3,011,823 parameters, 3,011,807 gradients, 8.2 GFLOPs\n",
      "\n",
      "Transferred 319/355 items from pretrained weights\n",
      "Freezing layer 'model.22.dfl.conv.weight'\n",
      "\u001b[34m\u001b[1mtrain: \u001b[0mFast image access  (ping: 0.10.0 ms, read: 1247.2555.2 MB/s, size: 440.2 KB)\n"
     ]
    },
    {
     "name": "stderr",
     "output_type": "stream",
     "text": [
      "\u001b[34m\u001b[1mtrain: \u001b[0mScanning C:\\Users\\EREN\\Desktop\\HACKATHON\\dataset\\labels\\train... 21 images, 0 backgrounds, 0 corrupt: 100%|██████████| 21/21 [00:00<00:00, 750.04it/s]"
     ]
    },
    {
     "name": "stdout",
     "output_type": "stream",
     "text": [
      "\u001b[34m\u001b[1mtrain: \u001b[0mNew cache created: C:\\Users\\EREN\\Desktop\\HACKATHON\\dataset\\labels\\train.cache\n",
      "\u001b[34m\u001b[1mval: \u001b[0mFast image access  (ping: 0.10.0 ms, read: 1439.5564.8 MB/s, size: 340.8 KB)\n"
     ]
    },
    {
     "name": "stderr",
     "output_type": "stream",
     "text": [
      "\n",
      "c:\\Users\\EREN\\Desktop\\HACKATHON\\yolo_env_39\\lib\\site-packages\\torch\\utils\\data\\dataloader.py:665: UserWarning: 'pin_memory' argument is set as true but no accelerator is found, then device pinned memory won't be used.\n",
      "  warnings.warn(warn_msg)\n",
      "\u001b[34m\u001b[1mval: \u001b[0mScanning C:\\Users\\EREN\\Desktop\\HACKATHON\\dataset\\labels\\val... 5 images, 0 backgrounds, 0 corrupt: 100%|██████████| 5/5 [00:00<00:00, 1667.45it/s]"
     ]
    },
    {
     "name": "stdout",
     "output_type": "stream",
     "text": [
      "\u001b[34m\u001b[1mval: \u001b[0mNew cache created: C:\\Users\\EREN\\Desktop\\HACKATHON\\dataset\\labels\\val.cache\n",
      "Plotting labels to eye_pad_quality_control\\yolov8n_custom_dataset\\labels.jpg... \n"
     ]
    },
    {
     "name": "stderr",
     "output_type": "stream",
     "text": [
      "\n",
      "c:\\Users\\EREN\\Desktop\\HACKATHON\\yolo_env_39\\lib\\site-packages\\torch\\utils\\data\\dataloader.py:665: UserWarning: 'pin_memory' argument is set as true but no accelerator is found, then device pinned memory won't be used.\n",
      "  warnings.warn(warn_msg)\n"
     ]
    },
    {
     "name": "stdout",
     "output_type": "stream",
     "text": [
      "\u001b[34m\u001b[1moptimizer:\u001b[0m AdamW(lr=0.001, momentum=0.937) with parameter groups 57 weight(decay=0.0), 64 weight(decay=0.0005), 63 bias(decay=0.0)\n",
      "Image sizes 640 train, 640 val\n",
      "Using 0 dataloader workers\n",
      "Logging results to \u001b[1meye_pad_quality_control\\yolov8n_custom_dataset\u001b[0m\n",
      "Starting training for 50 epochs...\n",
      "\n",
      "      Epoch    GPU_mem   box_loss   cls_loss   dfl_loss  Instances       Size\n"
     ]
    },
    {
     "name": "stderr",
     "output_type": "stream",
     "text": [
      "       1/50         0G      1.407      3.377      1.872         12        640: 100%|██████████| 2/2 [00:06<00:00,  3.15s/it]\n",
      "                 Class     Images  Instances      Box(P          R      mAP50  mAP50-95): 100%|██████████| 1/1 [00:00<00:00,  2.16it/s]"
     ]
    },
    {
     "name": "stdout",
     "output_type": "stream",
     "text": [
      "                   all          5          5    0.00354          1      0.306     0.0586\n"
     ]
    },
    {
     "name": "stderr",
     "output_type": "stream",
     "text": [
      "\n"
     ]
    },
    {
     "name": "stdout",
     "output_type": "stream",
     "text": [
      "\n",
      "      Epoch    GPU_mem   box_loss   cls_loss   dfl_loss  Instances       Size\n"
     ]
    },
    {
     "name": "stderr",
     "output_type": "stream",
     "text": [
      "       2/50         0G      1.187      3.185      1.601         15        640: 100%|██████████| 2/2 [00:05<00:00,  2.64s/it]\n",
      "                 Class     Images  Instances      Box(P          R      mAP50  mAP50-95): 100%|██████████| 1/1 [00:00<00:00,  2.29it/s]"
     ]
    },
    {
     "name": "stdout",
     "output_type": "stream",
     "text": [
      "                   all          5          5     0.0029        0.8      0.209      0.046\n"
     ]
    },
    {
     "name": "stderr",
     "output_type": "stream",
     "text": [
      "\n"
     ]
    },
    {
     "name": "stdout",
     "output_type": "stream",
     "text": [
      "\n",
      "      Epoch    GPU_mem   box_loss   cls_loss   dfl_loss  Instances       Size\n"
     ]
    },
    {
     "name": "stderr",
     "output_type": "stream",
     "text": [
      "       3/50         0G      0.998      2.984      1.473         12        640: 100%|██████████| 2/2 [00:05<00:00,  2.51s/it]\n",
      "                 Class     Images  Instances      Box(P          R      mAP50  mAP50-95): 100%|██████████| 1/1 [00:00<00:00,  1.84it/s]"
     ]
    },
    {
     "name": "stdout",
     "output_type": "stream",
     "text": [
      "                   all          5          5    0.00278        0.8      0.147     0.0343\n"
     ]
    },
    {
     "name": "stderr",
     "output_type": "stream",
     "text": [
      "\n"
     ]
    },
    {
     "name": "stdout",
     "output_type": "stream",
     "text": [
      "\n",
      "      Epoch    GPU_mem   box_loss   cls_loss   dfl_loss  Instances       Size\n"
     ]
    },
    {
     "name": "stderr",
     "output_type": "stream",
     "text": [
      "       4/50         0G     0.7956      2.637       1.33         17        640: 100%|██████████| 2/2 [00:05<00:00,  2.68s/it]\n",
      "                 Class     Images  Instances      Box(P          R      mAP50  mAP50-95): 100%|██████████| 1/1 [00:00<00:00,  2.28it/s]"
     ]
    },
    {
     "name": "stdout",
     "output_type": "stream",
     "text": [
      "                   all          5          5    0.00404          1     0.0944     0.0205\n"
     ]
    },
    {
     "name": "stderr",
     "output_type": "stream",
     "text": [
      "\n"
     ]
    },
    {
     "name": "stdout",
     "output_type": "stream",
     "text": [
      "\n",
      "      Epoch    GPU_mem   box_loss   cls_loss   dfl_loss  Instances       Size\n"
     ]
    },
    {
     "name": "stderr",
     "output_type": "stream",
     "text": [
      "       5/50         0G     0.6903      2.447       1.26         20        640: 100%|██████████| 2/2 [00:05<00:00,  2.55s/it]\n",
      "                 Class     Images  Instances      Box(P          R      mAP50  mAP50-95): 100%|██████████| 1/1 [00:00<00:00,  1.89it/s]"
     ]
    },
    {
     "name": "stdout",
     "output_type": "stream",
     "text": [
      "                   all          5          5    0.00335        0.8      0.355     0.0904\n"
     ]
    },
    {
     "name": "stderr",
     "output_type": "stream",
     "text": [
      "\n"
     ]
    },
    {
     "name": "stdout",
     "output_type": "stream",
     "text": [
      "\n",
      "      Epoch    GPU_mem   box_loss   cls_loss   dfl_loss  Instances       Size\n"
     ]
    },
    {
     "name": "stderr",
     "output_type": "stream",
     "text": [
      "       6/50         0G     0.7201      2.595      1.316         12        640: 100%|██████████| 2/2 [00:05<00:00,  2.57s/it]\n",
      "                 Class     Images  Instances      Box(P          R      mAP50  mAP50-95): 100%|██████████| 1/1 [00:00<00:00,  2.14it/s]"
     ]
    },
    {
     "name": "stdout",
     "output_type": "stream",
     "text": [
      "                   all          5          5    0.00352        0.8      0.379     0.0924\n"
     ]
    },
    {
     "name": "stderr",
     "output_type": "stream",
     "text": [
      "\n"
     ]
    },
    {
     "name": "stdout",
     "output_type": "stream",
     "text": [
      "\n",
      "      Epoch    GPU_mem   box_loss   cls_loss   dfl_loss  Instances       Size\n"
     ]
    },
    {
     "name": "stderr",
     "output_type": "stream",
     "text": [
      "       7/50         0G     0.7747      2.592      1.337         11        640: 100%|██████████| 2/2 [00:04<00:00,  2.49s/it]\n",
      "                 Class     Images  Instances      Box(P          R      mAP50  mAP50-95): 100%|██████████| 1/1 [00:00<00:00,  1.91it/s]"
     ]
    },
    {
     "name": "stdout",
     "output_type": "stream",
     "text": [
      "                   all          5          5    0.00336        0.8      0.365      0.157\n"
     ]
    },
    {
     "name": "stderr",
     "output_type": "stream",
     "text": [
      "\n"
     ]
    },
    {
     "name": "stdout",
     "output_type": "stream",
     "text": [
      "\n",
      "      Epoch    GPU_mem   box_loss   cls_loss   dfl_loss  Instances       Size\n"
     ]
    },
    {
     "name": "stderr",
     "output_type": "stream",
     "text": [
      "       8/50         0G     0.6778      2.382      1.202         15        640: 100%|██████████| 2/2 [00:05<00:00,  2.53s/it]\n",
      "                 Class     Images  Instances      Box(P          R      mAP50  mAP50-95): 100%|██████████| 1/1 [00:00<00:00,  2.13it/s]"
     ]
    },
    {
     "name": "stdout",
     "output_type": "stream",
     "text": [
      "                   all          5          5    0.00372        0.8        0.1      0.032\n"
     ]
    },
    {
     "name": "stderr",
     "output_type": "stream",
     "text": [
      "\n"
     ]
    },
    {
     "name": "stdout",
     "output_type": "stream",
     "text": [
      "\n",
      "      Epoch    GPU_mem   box_loss   cls_loss   dfl_loss  Instances       Size\n"
     ]
    },
    {
     "name": "stderr",
     "output_type": "stream",
     "text": [
      "       9/50         0G     0.7038      2.072      1.171         18        640: 100%|██████████| 2/2 [00:05<00:00,  2.51s/it]\n",
      "                 Class     Images  Instances      Box(P          R      mAP50  mAP50-95): 100%|██████████| 1/1 [00:00<00:00,  1.87it/s]"
     ]
    },
    {
     "name": "stdout",
     "output_type": "stream",
     "text": [
      "                   all          5          5    0.00558        0.6      0.235     0.0351\n"
     ]
    },
    {
     "name": "stderr",
     "output_type": "stream",
     "text": [
      "\n"
     ]
    },
    {
     "name": "stdout",
     "output_type": "stream",
     "text": [
      "\n",
      "      Epoch    GPU_mem   box_loss   cls_loss   dfl_loss  Instances       Size\n"
     ]
    },
    {
     "name": "stderr",
     "output_type": "stream",
     "text": [
      "      10/50         0G     0.7694      2.209      1.226         14        640: 100%|██████████| 2/2 [00:04<00:00,  2.47s/it]\n",
      "                 Class     Images  Instances      Box(P          R      mAP50  mAP50-95): 100%|██████████| 1/1 [00:00<00:00,  1.82it/s]"
     ]
    },
    {
     "name": "stdout",
     "output_type": "stream",
     "text": [
      "                   all          5          5    0.00267        0.8      0.016    0.00347\n"
     ]
    },
    {
     "name": "stderr",
     "output_type": "stream",
     "text": [
      "\n"
     ]
    },
    {
     "name": "stdout",
     "output_type": "stream",
     "text": [
      "\n",
      "      Epoch    GPU_mem   box_loss   cls_loss   dfl_loss  Instances       Size\n"
     ]
    },
    {
     "name": "stderr",
     "output_type": "stream",
     "text": [
      "      11/50         0G     0.7287      2.344      1.283          8        640: 100%|██████████| 2/2 [00:04<00:00,  2.48s/it]\n",
      "                 Class     Images  Instances      Box(P          R      mAP50  mAP50-95): 100%|██████████| 1/1 [00:00<00:00,  1.80it/s]"
     ]
    },
    {
     "name": "stdout",
     "output_type": "stream",
     "text": [
      "                   all          5          5    0.00206        0.6     0.0218    0.00754\n"
     ]
    },
    {
     "name": "stderr",
     "output_type": "stream",
     "text": [
      "\n"
     ]
    },
    {
     "name": "stdout",
     "output_type": "stream",
     "text": [
      "\n",
      "      Epoch    GPU_mem   box_loss   cls_loss   dfl_loss  Instances       Size\n"
     ]
    },
    {
     "name": "stderr",
     "output_type": "stream",
     "text": [
      "      12/50         0G     0.6361      2.052      1.162         14        640: 100%|██████████| 2/2 [00:05<00:00,  2.55s/it]\n",
      "                 Class     Images  Instances      Box(P          R      mAP50  mAP50-95): 100%|██████████| 1/1 [00:00<00:00,  1.83it/s]"
     ]
    },
    {
     "name": "stdout",
     "output_type": "stream",
     "text": [
      "                   all          5          5     0.0109        0.8      0.173     0.0604\n"
     ]
    },
    {
     "name": "stderr",
     "output_type": "stream",
     "text": [
      "\n"
     ]
    },
    {
     "name": "stdout",
     "output_type": "stream",
     "text": [
      "\n",
      "      Epoch    GPU_mem   box_loss   cls_loss   dfl_loss  Instances       Size\n"
     ]
    },
    {
     "name": "stderr",
     "output_type": "stream",
     "text": [
      "      13/50         0G     0.7502      2.155      1.269         11        640: 100%|██████████| 2/2 [00:05<00:00,  2.54s/it]\n",
      "                 Class     Images  Instances      Box(P          R      mAP50  mAP50-95): 100%|██████████| 1/1 [00:00<00:00,  1.85it/s]"
     ]
    },
    {
     "name": "stdout",
     "output_type": "stream",
     "text": [
      "                   all          5          5     0.0159        0.8      0.219     0.0684\n"
     ]
    },
    {
     "name": "stderr",
     "output_type": "stream",
     "text": [
      "\n"
     ]
    },
    {
     "name": "stdout",
     "output_type": "stream",
     "text": [
      "\n",
      "      Epoch    GPU_mem   box_loss   cls_loss   dfl_loss  Instances       Size\n"
     ]
    },
    {
     "name": "stderr",
     "output_type": "stream",
     "text": [
      "      14/50         0G     0.6971      2.053      1.141         16        640: 100%|██████████| 2/2 [00:05<00:00,  2.56s/it]\n",
      "                 Class     Images  Instances      Box(P          R      mAP50  mAP50-95): 100%|██████████| 1/1 [00:00<00:00,  1.88it/s]"
     ]
    },
    {
     "name": "stdout",
     "output_type": "stream",
     "text": [
      "                   all          5          5    0.00372        0.8      0.405      0.149\n"
     ]
    },
    {
     "name": "stderr",
     "output_type": "stream",
     "text": [
      "\n"
     ]
    },
    {
     "name": "stdout",
     "output_type": "stream",
     "text": [
      "\n",
      "      Epoch    GPU_mem   box_loss   cls_loss   dfl_loss  Instances       Size\n"
     ]
    },
    {
     "name": "stderr",
     "output_type": "stream",
     "text": [
      "      15/50         0G     0.5798      1.852      1.061         16        640: 100%|██████████| 2/2 [00:05<00:00,  2.57s/it]\n",
      "                 Class     Images  Instances      Box(P          R      mAP50  mAP50-95): 100%|██████████| 1/1 [00:00<00:00,  1.99it/s]"
     ]
    },
    {
     "name": "stdout",
     "output_type": "stream",
     "text": [
      "                   all          5          5    0.00294        0.8      0.272      0.102\n"
     ]
    },
    {
     "name": "stderr",
     "output_type": "stream",
     "text": [
      "\n"
     ]
    },
    {
     "name": "stdout",
     "output_type": "stream",
     "text": [
      "\n",
      "      Epoch    GPU_mem   box_loss   cls_loss   dfl_loss  Instances       Size\n"
     ]
    },
    {
     "name": "stderr",
     "output_type": "stream",
     "text": [
      "      16/50         0G     0.7985      1.974      1.172         10        640: 100%|██████████| 2/2 [00:05<00:00,  2.61s/it]\n",
      "                 Class     Images  Instances      Box(P          R      mAP50  mAP50-95): 100%|██████████| 1/1 [00:00<00:00,  1.69it/s]"
     ]
    },
    {
     "name": "stdout",
     "output_type": "stream",
     "text": [
      "                   all          5          5    0.00307        0.8      0.371      0.122\n"
     ]
    },
    {
     "name": "stderr",
     "output_type": "stream",
     "text": [
      "\n"
     ]
    },
    {
     "name": "stdout",
     "output_type": "stream",
     "text": [
      "\n",
      "      Epoch    GPU_mem   box_loss   cls_loss   dfl_loss  Instances       Size\n"
     ]
    },
    {
     "name": "stderr",
     "output_type": "stream",
     "text": [
      "      17/50         0G     0.7116       1.86      1.241         16        640: 100%|██████████| 2/2 [00:05<00:00,  2.60s/it]\n",
      "                 Class     Images  Instances      Box(P          R      mAP50  mAP50-95): 100%|██████████| 1/1 [00:00<00:00,  1.82it/s]"
     ]
    },
    {
     "name": "stdout",
     "output_type": "stream",
     "text": [
      "                   all          5          5    0.00321        0.8      0.481      0.159\n"
     ]
    },
    {
     "name": "stderr",
     "output_type": "stream",
     "text": [
      "\n"
     ]
    },
    {
     "name": "stdout",
     "output_type": "stream",
     "text": [
      "\n",
      "      Epoch    GPU_mem   box_loss   cls_loss   dfl_loss  Instances       Size\n"
     ]
    },
    {
     "name": "stderr",
     "output_type": "stream",
     "text": [
      "      18/50         0G      0.703      1.833      1.216         12        640: 100%|██████████| 2/2 [00:05<00:00,  2.76s/it]\n",
      "                 Class     Images  Instances      Box(P          R      mAP50  mAP50-95): 100%|██████████| 1/1 [00:00<00:00,  2.16it/s]"
     ]
    },
    {
     "name": "stdout",
     "output_type": "stream",
     "text": [
      "                   all          5          5    0.00486        0.8      0.514       0.19\n"
     ]
    },
    {
     "name": "stderr",
     "output_type": "stream",
     "text": [
      "\n"
     ]
    },
    {
     "name": "stdout",
     "output_type": "stream",
     "text": [
      "\n",
      "      Epoch    GPU_mem   box_loss   cls_loss   dfl_loss  Instances       Size\n"
     ]
    },
    {
     "name": "stderr",
     "output_type": "stream",
     "text": [
      "      19/50         0G     0.5937      1.843      1.164         12        640: 100%|██████████| 2/2 [00:05<00:00,  2.67s/it]\n",
      "                 Class     Images  Instances      Box(P          R      mAP50  mAP50-95): 100%|██████████| 1/1 [00:00<00:00,  2.01it/s]"
     ]
    },
    {
     "name": "stdout",
     "output_type": "stream",
     "text": [
      "                   all          5          5    0.00499        0.8      0.564       0.17\n"
     ]
    },
    {
     "name": "stderr",
     "output_type": "stream",
     "text": [
      "\n"
     ]
    },
    {
     "name": "stdout",
     "output_type": "stream",
     "text": [
      "\n",
      "      Epoch    GPU_mem   box_loss   cls_loss   dfl_loss  Instances       Size\n"
     ]
    },
    {
     "name": "stderr",
     "output_type": "stream",
     "text": [
      "      20/50         0G     0.6714      1.681      1.244         13        640: 100%|██████████| 2/2 [00:05<00:00,  2.51s/it]\n",
      "                 Class     Images  Instances      Box(P          R      mAP50  mAP50-95): 100%|██████████| 1/1 [00:00<00:00,  2.21it/s]"
     ]
    },
    {
     "name": "stdout",
     "output_type": "stream",
     "text": [
      "                   all          5          5    0.00647        0.8      0.537      0.186\n"
     ]
    },
    {
     "name": "stderr",
     "output_type": "stream",
     "text": [
      "\n"
     ]
    },
    {
     "name": "stdout",
     "output_type": "stream",
     "text": [
      "\n",
      "      Epoch    GPU_mem   box_loss   cls_loss   dfl_loss  Instances       Size\n"
     ]
    },
    {
     "name": "stderr",
     "output_type": "stream",
     "text": [
      "      21/50         0G     0.6014      1.736      1.166         13        640: 100%|██████████| 2/2 [00:05<00:00,  2.53s/it]\n",
      "                 Class     Images  Instances      Box(P          R      mAP50  mAP50-95): 100%|██████████| 1/1 [00:00<00:00,  2.12it/s]"
     ]
    },
    {
     "name": "stdout",
     "output_type": "stream",
     "text": [
      "                   all          5          5    0.00731        0.8      0.426      0.192\n"
     ]
    },
    {
     "name": "stderr",
     "output_type": "stream",
     "text": [
      "\n"
     ]
    },
    {
     "name": "stdout",
     "output_type": "stream",
     "text": [
      "\n",
      "      Epoch    GPU_mem   box_loss   cls_loss   dfl_loss  Instances       Size\n"
     ]
    },
    {
     "name": "stderr",
     "output_type": "stream",
     "text": [
      "      22/50         0G     0.6143      1.814      1.109         12        640: 100%|██████████| 2/2 [00:05<00:00,  2.53s/it]\n",
      "                 Class     Images  Instances      Box(P          R      mAP50  mAP50-95): 100%|██████████| 1/1 [00:00<00:00,  2.15it/s]"
     ]
    },
    {
     "name": "stdout",
     "output_type": "stream",
     "text": [
      "                   all          5          5     0.0178          1      0.448      0.254\n"
     ]
    },
    {
     "name": "stderr",
     "output_type": "stream",
     "text": [
      "\n"
     ]
    },
    {
     "name": "stdout",
     "output_type": "stream",
     "text": [
      "\n",
      "      Epoch    GPU_mem   box_loss   cls_loss   dfl_loss  Instances       Size\n"
     ]
    },
    {
     "name": "stderr",
     "output_type": "stream",
     "text": [
      "      23/50         0G     0.7621      1.928      1.267          9        640: 100%|██████████| 2/2 [00:05<00:00,  2.59s/it]\n",
      "                 Class     Images  Instances      Box(P          R      mAP50  mAP50-95): 100%|██████████| 1/1 [00:00<00:00,  2.19it/s]"
     ]
    },
    {
     "name": "stdout",
     "output_type": "stream",
     "text": [
      "                   all          5          5      0.021          1      0.458      0.241\n"
     ]
    },
    {
     "name": "stderr",
     "output_type": "stream",
     "text": [
      "\n"
     ]
    },
    {
     "name": "stdout",
     "output_type": "stream",
     "text": [
      "\n",
      "      Epoch    GPU_mem   box_loss   cls_loss   dfl_loss  Instances       Size\n"
     ]
    },
    {
     "name": "stderr",
     "output_type": "stream",
     "text": [
      "      24/50         0G     0.5953      1.711      1.152         15        640: 100%|██████████| 2/2 [00:05<00:00,  2.50s/it]\n",
      "                 Class     Images  Instances      Box(P          R      mAP50  mAP50-95): 100%|██████████| 1/1 [00:00<00:00,  1.88it/s]"
     ]
    },
    {
     "name": "stdout",
     "output_type": "stream",
     "text": [
      "                   all          5          5     0.0279          1      0.576      0.286\n"
     ]
    },
    {
     "name": "stderr",
     "output_type": "stream",
     "text": [
      "\n"
     ]
    },
    {
     "name": "stdout",
     "output_type": "stream",
     "text": [
      "\n",
      "      Epoch    GPU_mem   box_loss   cls_loss   dfl_loss  Instances       Size\n"
     ]
    },
    {
     "name": "stderr",
     "output_type": "stream",
     "text": [
      "      25/50         0G     0.6369      1.784      1.185         13        640: 100%|██████████| 2/2 [00:05<00:00,  2.61s/it]\n",
      "                 Class     Images  Instances      Box(P          R      mAP50  mAP50-95): 100%|██████████| 1/1 [00:00<00:00,  2.17it/s]"
     ]
    },
    {
     "name": "stdout",
     "output_type": "stream",
     "text": [
      "                   all          5          5      0.483        0.6      0.504      0.232\n"
     ]
    },
    {
     "name": "stderr",
     "output_type": "stream",
     "text": [
      "\n"
     ]
    },
    {
     "name": "stdout",
     "output_type": "stream",
     "text": [
      "\n",
      "      Epoch    GPU_mem   box_loss   cls_loss   dfl_loss  Instances       Size\n"
     ]
    },
    {
     "name": "stderr",
     "output_type": "stream",
     "text": [
      "      26/50         0G     0.6062      1.697      1.169         10        640: 100%|██████████| 2/2 [00:05<00:00,  2.60s/it]\n",
      "                 Class     Images  Instances      Box(P          R      mAP50  mAP50-95): 100%|██████████| 1/1 [00:00<00:00,  2.12it/s]"
     ]
    },
    {
     "name": "stdout",
     "output_type": "stream",
     "text": [
      "                   all          5          5      0.557        0.6      0.514      0.223\n"
     ]
    },
    {
     "name": "stderr",
     "output_type": "stream",
     "text": [
      "\n"
     ]
    },
    {
     "name": "stdout",
     "output_type": "stream",
     "text": [
      "\n",
      "      Epoch    GPU_mem   box_loss   cls_loss   dfl_loss  Instances       Size\n"
     ]
    },
    {
     "name": "stderr",
     "output_type": "stream",
     "text": [
      "      27/50         0G      0.574      1.774      1.173          8        640: 100%|██████████| 2/2 [00:05<00:00,  2.52s/it]\n",
      "                 Class     Images  Instances      Box(P          R      mAP50  mAP50-95): 100%|██████████| 1/1 [00:00<00:00,  2.16it/s]"
     ]
    },
    {
     "name": "stdout",
     "output_type": "stream",
     "text": [
      "                   all          5          5      0.662        0.2      0.614      0.281\n"
     ]
    },
    {
     "name": "stderr",
     "output_type": "stream",
     "text": [
      "\n"
     ]
    },
    {
     "name": "stdout",
     "output_type": "stream",
     "text": [
      "\n",
      "      Epoch    GPU_mem   box_loss   cls_loss   dfl_loss  Instances       Size\n"
     ]
    },
    {
     "name": "stderr",
     "output_type": "stream",
     "text": [
      "      28/50         0G     0.5349      1.533      1.067         16        640: 100%|██████████| 2/2 [00:05<00:00,  2.56s/it]\n",
      "                 Class     Images  Instances      Box(P          R      mAP50  mAP50-95): 100%|██████████| 1/1 [00:00<00:00,  1.87it/s]"
     ]
    },
    {
     "name": "stdout",
     "output_type": "stream",
     "text": [
      "                   all          5          5      0.662        0.2      0.614      0.281\n"
     ]
    },
    {
     "name": "stderr",
     "output_type": "stream",
     "text": [
      "\n"
     ]
    },
    {
     "name": "stdout",
     "output_type": "stream",
     "text": [
      "\n",
      "      Epoch    GPU_mem   box_loss   cls_loss   dfl_loss  Instances       Size\n"
     ]
    },
    {
     "name": "stderr",
     "output_type": "stream",
     "text": [
      "      29/50         0G     0.6087      1.599      1.156         14        640: 100%|██████████| 2/2 [00:05<00:00,  2.54s/it]\n",
      "                 Class     Images  Instances      Box(P          R      mAP50  mAP50-95): 100%|██████████| 1/1 [00:00<00:00,  1.80it/s]"
     ]
    },
    {
     "name": "stdout",
     "output_type": "stream",
     "text": [
      "                   all          5          5      0.463      0.228       0.58      0.292\n"
     ]
    },
    {
     "name": "stderr",
     "output_type": "stream",
     "text": [
      "\n"
     ]
    },
    {
     "name": "stdout",
     "output_type": "stream",
     "text": [
      "\n",
      "      Epoch    GPU_mem   box_loss   cls_loss   dfl_loss  Instances       Size\n"
     ]
    },
    {
     "name": "stderr",
     "output_type": "stream",
     "text": [
      "      30/50         0G     0.5582      1.512      1.067         16        640: 100%|██████████| 2/2 [00:05<00:00,  2.66s/it]\n",
      "                 Class     Images  Instances      Box(P          R      mAP50  mAP50-95): 100%|██████████| 1/1 [00:00<00:00,  2.22it/s]"
     ]
    },
    {
     "name": "stdout",
     "output_type": "stream",
     "text": [
      "                   all          5          5       0.47      0.258      0.415       0.21\n"
     ]
    },
    {
     "name": "stderr",
     "output_type": "stream",
     "text": [
      "\n"
     ]
    },
    {
     "name": "stdout",
     "output_type": "stream",
     "text": [
      "\n",
      "      Epoch    GPU_mem   box_loss   cls_loss   dfl_loss  Instances       Size\n"
     ]
    },
    {
     "name": "stderr",
     "output_type": "stream",
     "text": [
      "      31/50         0G     0.5634      1.524      1.082         14        640: 100%|██████████| 2/2 [00:05<00:00,  2.57s/it]\n",
      "                 Class     Images  Instances      Box(P          R      mAP50  mAP50-95): 100%|██████████| 1/1 [00:00<00:00,  2.16it/s]"
     ]
    },
    {
     "name": "stdout",
     "output_type": "stream",
     "text": [
      "                   all          5          5       0.47      0.258      0.415       0.21\n"
     ]
    },
    {
     "name": "stderr",
     "output_type": "stream",
     "text": [
      "\n"
     ]
    },
    {
     "name": "stdout",
     "output_type": "stream",
     "text": [
      "\n",
      "      Epoch    GPU_mem   box_loss   cls_loss   dfl_loss  Instances       Size\n"
     ]
    },
    {
     "name": "stderr",
     "output_type": "stream",
     "text": [
      "      32/50         0G     0.5911      1.828      1.145          9        640: 100%|██████████| 2/2 [00:05<00:00,  2.54s/it]\n",
      "                 Class     Images  Instances      Box(P          R      mAP50  mAP50-95): 100%|██████████| 1/1 [00:00<00:00,  2.15it/s]"
     ]
    },
    {
     "name": "stdout",
     "output_type": "stream",
     "text": [
      "                   all          5          5      0.659      0.212      0.514      0.274\n"
     ]
    },
    {
     "name": "stderr",
     "output_type": "stream",
     "text": [
      "\n"
     ]
    },
    {
     "name": "stdout",
     "output_type": "stream",
     "text": [
      "\n",
      "      Epoch    GPU_mem   box_loss   cls_loss   dfl_loss  Instances       Size\n"
     ]
    },
    {
     "name": "stderr",
     "output_type": "stream",
     "text": [
      "      33/50         0G      0.552      1.483      1.045         12        640: 100%|██████████| 2/2 [00:04<00:00,  2.49s/it]\n",
      "                 Class     Images  Instances      Box(P          R      mAP50  mAP50-95): 100%|██████████| 1/1 [00:00<00:00,  2.00it/s]"
     ]
    },
    {
     "name": "stdout",
     "output_type": "stream",
     "text": [
      "                   all          5          5      0.654        0.2      0.614      0.371\n"
     ]
    },
    {
     "name": "stderr",
     "output_type": "stream",
     "text": [
      "\n"
     ]
    },
    {
     "name": "stdout",
     "output_type": "stream",
     "text": [
      "\n",
      "      Epoch    GPU_mem   box_loss   cls_loss   dfl_loss  Instances       Size\n"
     ]
    },
    {
     "name": "stderr",
     "output_type": "stream",
     "text": [
      "      34/50         0G     0.4651      1.454      1.045         15        640: 100%|██████████| 2/2 [00:04<00:00,  2.44s/it]\n",
      "                 Class     Images  Instances      Box(P          R      mAP50  mAP50-95): 100%|██████████| 1/1 [00:00<00:00,  1.78it/s]"
     ]
    },
    {
     "name": "stdout",
     "output_type": "stream",
     "text": [
      "                   all          5          5      0.654        0.2      0.614      0.371\n"
     ]
    },
    {
     "name": "stderr",
     "output_type": "stream",
     "text": [
      "\n"
     ]
    },
    {
     "name": "stdout",
     "output_type": "stream",
     "text": [
      "\n",
      "      Epoch    GPU_mem   box_loss   cls_loss   dfl_loss  Instances       Size\n"
     ]
    },
    {
     "name": "stderr",
     "output_type": "stream",
     "text": [
      "      35/50         0G     0.4809      1.402      1.035         16        640: 100%|██████████| 2/2 [00:05<00:00,  2.51s/it]\n",
      "                 Class     Images  Instances      Box(P          R      mAP50  mAP50-95): 100%|██████████| 1/1 [00:00<00:00,  1.84it/s]"
     ]
    },
    {
     "name": "stdout",
     "output_type": "stream",
     "text": [
      "                   all          5          5      0.565      0.461      0.647      0.423\n"
     ]
    },
    {
     "name": "stderr",
     "output_type": "stream",
     "text": [
      "\n"
     ]
    },
    {
     "name": "stdout",
     "output_type": "stream",
     "text": [
      "\n",
      "      Epoch    GPU_mem   box_loss   cls_loss   dfl_loss  Instances       Size\n"
     ]
    },
    {
     "name": "stderr",
     "output_type": "stream",
     "text": [
      "      36/50         0G     0.5172      1.513      1.064         13        640: 100%|██████████| 2/2 [00:04<00:00,  2.48s/it]\n",
      "                 Class     Images  Instances      Box(P          R      mAP50  mAP50-95): 100%|██████████| 1/1 [00:00<00:00,  1.85it/s]"
     ]
    },
    {
     "name": "stdout",
     "output_type": "stream",
     "text": [
      "                   all          5          5      0.587        0.6      0.746      0.479\n"
     ]
    },
    {
     "name": "stderr",
     "output_type": "stream",
     "text": [
      "\n"
     ]
    },
    {
     "name": "stdout",
     "output_type": "stream",
     "text": [
      "\n",
      "      Epoch    GPU_mem   box_loss   cls_loss   dfl_loss  Instances       Size\n"
     ]
    },
    {
     "name": "stderr",
     "output_type": "stream",
     "text": [
      "      37/50         0G     0.6731      1.427      1.089         16        640: 100%|██████████| 2/2 [00:04<00:00,  2.46s/it]\n",
      "                 Class     Images  Instances      Box(P          R      mAP50  mAP50-95): 100%|██████████| 1/1 [00:00<00:00,  1.90it/s]"
     ]
    },
    {
     "name": "stdout",
     "output_type": "stream",
     "text": [
      "                   all          5          5      0.587        0.6      0.746      0.479\n"
     ]
    },
    {
     "name": "stderr",
     "output_type": "stream",
     "text": [
      "\n"
     ]
    },
    {
     "name": "stdout",
     "output_type": "stream",
     "text": [
      "\n",
      "      Epoch    GPU_mem   box_loss   cls_loss   dfl_loss  Instances       Size\n"
     ]
    },
    {
     "name": "stderr",
     "output_type": "stream",
     "text": [
      "      38/50         0G     0.5524      1.438      1.134          9        640: 100%|██████████| 2/2 [00:05<00:00,  2.65s/it]\n",
      "                 Class     Images  Instances      Box(P          R      mAP50  mAP50-95): 100%|██████████| 1/1 [00:00<00:00,  2.25it/s]"
     ]
    },
    {
     "name": "stdout",
     "output_type": "stream",
     "text": [
      "                   all          5          5      0.548        0.6      0.746      0.468\n"
     ]
    },
    {
     "name": "stderr",
     "output_type": "stream",
     "text": [
      "\n"
     ]
    },
    {
     "name": "stdout",
     "output_type": "stream",
     "text": [
      "\n",
      "      Epoch    GPU_mem   box_loss   cls_loss   dfl_loss  Instances       Size\n"
     ]
    },
    {
     "name": "stderr",
     "output_type": "stream",
     "text": [
      "      39/50         0G     0.4997      1.394      1.077         11        640: 100%|██████████| 2/2 [00:05<00:00,  2.54s/it]\n",
      "                 Class     Images  Instances      Box(P          R      mAP50  mAP50-95): 100%|██████████| 1/1 [00:00<00:00,  1.78it/s]"
     ]
    },
    {
     "name": "stdout",
     "output_type": "stream",
     "text": [
      "                   all          5          5      0.526        0.8      0.614      0.401\n"
     ]
    },
    {
     "name": "stderr",
     "output_type": "stream",
     "text": [
      "\n"
     ]
    },
    {
     "name": "stdout",
     "output_type": "stream",
     "text": [
      "\n",
      "      Epoch    GPU_mem   box_loss   cls_loss   dfl_loss  Instances       Size\n"
     ]
    },
    {
     "name": "stderr",
     "output_type": "stream",
     "text": [
      "      40/50         0G     0.6167      1.379      1.207         12        640: 100%|██████████| 2/2 [00:05<00:00,  2.63s/it]\n",
      "                 Class     Images  Instances      Box(P          R      mAP50  mAP50-95): 100%|██████████| 1/1 [00:00<00:00,  1.79it/s]"
     ]
    },
    {
     "name": "stdout",
     "output_type": "stream",
     "text": [
      "                   all          5          5      0.526        0.8      0.614      0.401\n"
     ]
    },
    {
     "name": "stderr",
     "output_type": "stream",
     "text": [
      "\n"
     ]
    },
    {
     "name": "stdout",
     "output_type": "stream",
     "text": [
      "Closing dataloader mosaic\n",
      "\n",
      "      Epoch    GPU_mem   box_loss   cls_loss   dfl_loss  Instances       Size\n"
     ]
    },
    {
     "name": "stderr",
     "output_type": "stream",
     "text": [
      "c:\\Users\\EREN\\Desktop\\HACKATHON\\yolo_env_39\\lib\\site-packages\\torch\\utils\\data\\dataloader.py:665: UserWarning: 'pin_memory' argument is set as true but no accelerator is found, then device pinned memory won't be used.\n",
      "  warnings.warn(warn_msg)\n",
      "      41/50         0G     0.7223      1.872      1.334          5        640: 100%|██████████| 2/2 [00:05<00:00,  2.59s/it]\n",
      "                 Class     Images  Instances      Box(P          R      mAP50  mAP50-95): 100%|██████████| 1/1 [00:00<00:00,  1.91it/s]"
     ]
    },
    {
     "name": "stdout",
     "output_type": "stream",
     "text": [
      "                   all          5          5      0.285        0.8      0.597      0.405\n"
     ]
    },
    {
     "name": "stderr",
     "output_type": "stream",
     "text": [
      "\n"
     ]
    },
    {
     "name": "stdout",
     "output_type": "stream",
     "text": [
      "\n",
      "      Epoch    GPU_mem   box_loss   cls_loss   dfl_loss  Instances       Size\n"
     ]
    },
    {
     "name": "stderr",
     "output_type": "stream",
     "text": [
      "      42/50         0G     0.6897      1.685      1.441          5        640: 100%|██████████| 2/2 [00:05<00:00,  2.50s/it]\n",
      "                 Class     Images  Instances      Box(P          R      mAP50  mAP50-95): 100%|██████████| 1/1 [00:00<00:00,  1.92it/s]"
     ]
    },
    {
     "name": "stdout",
     "output_type": "stream",
     "text": [
      "                   all          5          5      0.289        0.8      0.597      0.398\n"
     ]
    },
    {
     "name": "stderr",
     "output_type": "stream",
     "text": [
      "\n"
     ]
    },
    {
     "name": "stdout",
     "output_type": "stream",
     "text": [
      "\n",
      "      Epoch    GPU_mem   box_loss   cls_loss   dfl_loss  Instances       Size\n"
     ]
    },
    {
     "name": "stderr",
     "output_type": "stream",
     "text": [
      "      43/50         0G     0.5158      1.556      1.159          5        640: 100%|██████████| 2/2 [00:04<00:00,  2.41s/it]\n",
      "                 Class     Images  Instances      Box(P          R      mAP50  mAP50-95): 100%|██████████| 1/1 [00:00<00:00,  1.88it/s]"
     ]
    },
    {
     "name": "stdout",
     "output_type": "stream",
     "text": [
      "                   all          5          5      0.289        0.8      0.597      0.398\n"
     ]
    },
    {
     "name": "stderr",
     "output_type": "stream",
     "text": [
      "\n"
     ]
    },
    {
     "name": "stdout",
     "output_type": "stream",
     "text": [
      "\n",
      "      Epoch    GPU_mem   box_loss   cls_loss   dfl_loss  Instances       Size\n"
     ]
    },
    {
     "name": "stderr",
     "output_type": "stream",
     "text": [
      "      44/50         0G     0.7618      1.753      1.478          5        640: 100%|██████████| 2/2 [00:05<00:00,  2.54s/it]\n",
      "                 Class     Images  Instances      Box(P          R      mAP50  mAP50-95): 100%|██████████| 1/1 [00:00<00:00,  2.23it/s]"
     ]
    },
    {
     "name": "stdout",
     "output_type": "stream",
     "text": [
      "                   all          5          5      0.291      0.839       0.63      0.408\n"
     ]
    },
    {
     "name": "stderr",
     "output_type": "stream",
     "text": [
      "\n"
     ]
    },
    {
     "name": "stdout",
     "output_type": "stream",
     "text": [
      "\n",
      "      Epoch    GPU_mem   box_loss   cls_loss   dfl_loss  Instances       Size\n"
     ]
    },
    {
     "name": "stderr",
     "output_type": "stream",
     "text": [
      "      45/50         0G     0.4046      1.503      1.016          5        640: 100%|██████████| 2/2 [00:05<00:00,  2.52s/it]\n",
      "                 Class     Images  Instances      Box(P          R      mAP50  mAP50-95): 100%|██████████| 1/1 [00:00<00:00,  2.25it/s]"
     ]
    },
    {
     "name": "stdout",
     "output_type": "stream",
     "text": [
      "                   all          5          5      0.291      0.839       0.63      0.408\n"
     ]
    },
    {
     "name": "stderr",
     "output_type": "stream",
     "text": [
      "\n"
     ]
    },
    {
     "name": "stdout",
     "output_type": "stream",
     "text": [
      "\n",
      "      Epoch    GPU_mem   box_loss   cls_loss   dfl_loss  Instances       Size\n"
     ]
    },
    {
     "name": "stderr",
     "output_type": "stream",
     "text": [
      "      46/50         0G     0.5537      1.704       1.24          5        640: 100%|██████████| 2/2 [00:04<00:00,  2.49s/it]\n",
      "                 Class     Images  Instances      Box(P          R      mAP50  mAP50-95): 100%|██████████| 1/1 [00:00<00:00,  1.93it/s]"
     ]
    },
    {
     "name": "stdout",
     "output_type": "stream",
     "text": [
      "                   all          5          5      0.477      0.788       0.63      0.401\n"
     ]
    },
    {
     "name": "stderr",
     "output_type": "stream",
     "text": [
      "\n"
     ]
    },
    {
     "name": "stdout",
     "output_type": "stream",
     "text": [
      "\n",
      "      Epoch    GPU_mem   box_loss   cls_loss   dfl_loss  Instances       Size\n"
     ]
    },
    {
     "name": "stderr",
     "output_type": "stream",
     "text": [
      "      47/50         0G     0.4151      1.422      1.022          5        640: 100%|██████████| 2/2 [00:04<00:00,  2.45s/it]\n",
      "                 Class     Images  Instances      Box(P          R      mAP50  mAP50-95): 100%|██████████| 1/1 [00:00<00:00,  1.95it/s]"
     ]
    },
    {
     "name": "stdout",
     "output_type": "stream",
     "text": [
      "                   all          5          5      0.477      0.788       0.63      0.401\n"
     ]
    },
    {
     "name": "stderr",
     "output_type": "stream",
     "text": [
      "\n"
     ]
    },
    {
     "name": "stdout",
     "output_type": "stream",
     "text": [
      "\n",
      "      Epoch    GPU_mem   box_loss   cls_loss   dfl_loss  Instances       Size\n"
     ]
    },
    {
     "name": "stderr",
     "output_type": "stream",
     "text": [
      "      48/50         0G     0.4525      1.673      1.153          5        640: 100%|██████████| 2/2 [00:05<00:00,  2.50s/it]\n",
      "                 Class     Images  Instances      Box(P          R      mAP50  mAP50-95): 100%|██████████| 1/1 [00:00<00:00,  2.19it/s]"
     ]
    },
    {
     "name": "stdout",
     "output_type": "stream",
     "text": [
      "                   all          5          5       0.35       0.98      0.663      0.421\n"
     ]
    },
    {
     "name": "stderr",
     "output_type": "stream",
     "text": [
      "\n"
     ]
    },
    {
     "name": "stdout",
     "output_type": "stream",
     "text": [
      "\n",
      "      Epoch    GPU_mem   box_loss   cls_loss   dfl_loss  Instances       Size\n"
     ]
    },
    {
     "name": "stderr",
     "output_type": "stream",
     "text": [
      "      49/50         0G     0.4917      1.638      1.241          5        640: 100%|██████████| 2/2 [00:05<00:00,  2.53s/it]\n",
      "                 Class     Images  Instances      Box(P          R      mAP50  mAP50-95): 100%|██████████| 1/1 [00:00<00:00,  2.15it/s]"
     ]
    },
    {
     "name": "stdout",
     "output_type": "stream",
     "text": [
      "                   all          5          5       0.35       0.98      0.663      0.421\n"
     ]
    },
    {
     "name": "stderr",
     "output_type": "stream",
     "text": [
      "\n"
     ]
    },
    {
     "name": "stdout",
     "output_type": "stream",
     "text": [
      "\n",
      "      Epoch    GPU_mem   box_loss   cls_loss   dfl_loss  Instances       Size\n"
     ]
    },
    {
     "name": "stderr",
     "output_type": "stream",
     "text": [
      "      50/50         0G     0.4402      1.725      1.113          5        640: 100%|██████████| 2/2 [00:05<00:00,  2.64s/it]\n",
      "                 Class     Images  Instances      Box(P          R      mAP50  mAP50-95): 100%|██████████| 1/1 [00:00<00:00,  2.19it/s]"
     ]
    },
    {
     "name": "stdout",
     "output_type": "stream",
     "text": [
      "                   all          5          5      0.326      0.978      0.663      0.421\n"
     ]
    },
    {
     "name": "stderr",
     "output_type": "stream",
     "text": [
      "\n"
     ]
    },
    {
     "name": "stdout",
     "output_type": "stream",
     "text": [
      "\n",
      "50 epochs completed in 0.082 hours.\n",
      "Optimizer stripped from eye_pad_quality_control\\yolov8n_custom_dataset\\weights\\last.pt, 6.3MB\n",
      "Optimizer stripped from eye_pad_quality_control\\yolov8n_custom_dataset\\weights\\best.pt, 6.3MB\n",
      "\n",
      "Validating eye_pad_quality_control\\yolov8n_custom_dataset\\weights\\best.pt...\n",
      "Ultralytics 8.3.141  Python-3.9.13 torch-2.7.0+cpu CPU (Intel Core(TM) i7-9750H 2.60GHz)\n",
      "Model summary (fused): 72 layers, 3,006,623 parameters, 0 gradients, 8.1 GFLOPs\n"
     ]
    },
    {
     "name": "stderr",
     "output_type": "stream",
     "text": [
      "                 Class     Images  Instances      Box(P          R      mAP50  mAP50-95): 100%|██████████| 1/1 [00:00<00:00,  2.38it/s]\n"
     ]
    },
    {
     "name": "stdout",
     "output_type": "stream",
     "text": [
      "                   all          5          5      0.588        0.6      0.746      0.479\n",
      "            saglam_ped          1          1      0.248          1      0.249      0.149\n",
      "         renk_degisimi          1          1      0.448          1      0.497      0.249\n",
      "                  leke          1          1      0.244          1      0.995      0.503\n",
      "        yapi_bozulmasi          1          1          1          0      0.995      0.796\n",
      "          kesim_hatasi          1          1          1          0      0.995      0.697\n",
      "Speed: 1.5ms preprocess, 49.6ms inference, 0.0ms loss, 2.9ms postprocess per image\n",
      "Results saved to \u001b[1meye_pad_quality_control\\yolov8n_custom_dataset\u001b[0m\n",
      "\n",
      "Model eğitimi tamamlandı!\n"
     ]
    }
   ],
   "source": [
    "\n",
    "from ultralytics import YOLO\n",
    "# 3. YOLOv8 Modelini Yükleme ve Eğitme\n",
    "\n",
    "# Önceden eğitilmiş YOLOv8 modelini yükle (nano versiyonu)\n",
    "model = YOLO('yolov8n.pt')\n",
    "\n",
    "# Modeli kendi veri setimizle eğit\n",
    "\n",
    "# Modeli kendi veri setimizle eğit\n",
    "results = model.train(\n",
    "    data='C:\\\\Users\\\\EREN\\\\Desktop\\\\HACKATHON\\\\data.yaml',\n",
    "    epochs=50,\n",
    "    imgsz=640,\n",
    "    batch=16,\n",
    "    patience=20,\n",
    "    optimizer='AdamW',\n",
    "    lr0=0.001,\n",
    "    lrf=0.01,\n",
    "    device='cpu', # <-- Burayı DÜZELTTİK! GPU yerine CPU kullanacak.\n",
    "    project='eye_pad_quality_control',\n",
    "    name='yolov8n_custom_dataset',\n",
    "    exist_ok=True\n",
    ")\n",
    "\n",
    "print(\"\\nModel eğitimi tamamlandı!\")\n",
    "\n",
    "# %%"
   ]
  },
  {
   "cell_type": "code",
   "execution_count": 6,
   "id": "7db822cf",
   "metadata": {},
   "outputs": [
    {
     "name": "stdout",
     "output_type": "stream",
     "text": [
      "Ultralytics 8.3.141  Python-3.9.13 torch-2.7.0+cpu CPU (Intel Core(TM) i7-9750H 2.60GHz)\n",
      "Model summary (fused): 72 layers, 3,006,623 parameters, 0 gradients, 8.1 GFLOPs\n",
      "\u001b[34m\u001b[1mval: \u001b[0mFast image access  (ping: 0.10.0 ms, read: 1808.21085.0 MB/s, size: 340.8 KB)\n"
     ]
    },
    {
     "name": "stderr",
     "output_type": "stream",
     "text": [
      "\u001b[34m\u001b[1mval: \u001b[0mScanning C:\\Users\\EREN\\Desktop\\HACKATHON\\dataset\\labels\\val.cache... 5 images, 0 backgrounds, 0 corrupt: 100%|██████████| 5/5 [00:00<?, ?it/s]\n",
      "c:\\Users\\EREN\\Desktop\\HACKATHON\\yolo_env_39\\lib\\site-packages\\torch\\utils\\data\\dataloader.py:665: UserWarning: 'pin_memory' argument is set as true but no accelerator is found, then device pinned memory won't be used.\n",
      "  warnings.warn(warn_msg)\n",
      "                 Class     Images  Instances      Box(P          R      mAP50  mAP50-95): 100%|██████████| 1/1 [00:00<00:00,  2.08it/s]\n"
     ]
    },
    {
     "name": "stdout",
     "output_type": "stream",
     "text": [
      "                   all          5          5      0.588        0.6      0.746      0.479\n",
      "            saglam_ped          1          1      0.248          1      0.249      0.149\n",
      "         renk_degisimi          1          1      0.448          1      0.497      0.249\n",
      "                  leke          1          1      0.244          1      0.995      0.503\n",
      "        yapi_bozulmasi          1          1          1          0      0.995      0.796\n",
      "          kesim_hatasi          1          1          1          0      0.995      0.697\n",
      "Speed: 3.6ms preprocess, 56.3ms inference, 0.0ms loss, 4.1ms postprocess per image\n",
      "Results saved to \u001b[1meye_pad_quality_control\\yolov8n_custom_dataset\u001b[0m\n",
      "\n",
      "Model Değerlendirme Sonuçları:\n",
      "Mean Average Precision (mAP@0.50-0.95): 0.4787705882352941\n",
      "Mean Average Precision (mAP@0.50): 0.7462500000000001\n"
     ]
    }
   ],
   "source": [
    "# Model değerlendirme\n",
    "metrics = model.val(data='C:\\\\Users\\\\EREN\\\\Desktop\\\\HACKATHON\\\\data.yaml')\n",
    "\n",
    "print(f\"\\nModel Değerlendirme Sonuçları:\")\n",
    "print(f\"Mean Average Precision (mAP@0.50-0.95): {metrics.box.map}\") # mAP (mAP50-95)\n",
    "print(f\"Mean Average Precision (mAP@0.50): {metrics.box.map50}\")   # mAP50\n",
    "# mAP75 için doğrudan bir attr olmayabilir, genellikle mAP50 ve mAP'i kullanırız.\n",
    "# Eğer mAP75'e ihtiyacın olursa, metrics.box'ın detaylarına bakmak gerekebilir,\n",
    "# ama genellikle map ve map50 yeterli olur.\n",
    "# print(f\"Mean Average Precision (mAP@0.75): {metrics.box.map75}\") # Eğer yoksa bu satırı kullanma\n",
    "\n",
    "# Sınıf bazlı Precision ve Recall değerlerine de erişebiliriz\n",
    "# print(f\"Precision: {metrics.box.p}\")\n",
    "# print(f\"Recall: {metrics.box.r}\")\n",
    "\n",
    "# Kayıp değerlerini görmek istersen (eğitim sırasında görünen loss'lar)\n"
   ]
  },
  {
   "cell_type": "code",
   "execution_count": 9,
   "id": "bf944971",
   "metadata": {},
   "outputs": [
    {
     "name": "stdout",
     "output_type": "stream",
     "text": [
      "Test için ilk bulunan görüntü kullanılıyor: dataset\\images\\test\\harbikesik.jpeg\n",
      "\n",
      "image 1/1 c:\\Users\\EREN\\Desktop\\HACKATHON\\dataset\\images\\test\\harbikesik.jpeg: 640x448 (no detections), 75.1ms\n",
      "Speed: 2.5ms preprocess, 75.1ms inference, 0.7ms postprocess per image at shape (1, 3, 640, 448)\n"
     ]
    },
    {
     "data": {
      "text/plain": [
       "<Figure size 1000x1000 with 1 Axes>"
      ]
     },
     "metadata": {},
     "output_type": "display_data"
    },
    {
     "name": "stdout",
     "output_type": "stream",
     "text": [
      "\n",
      "harbikesik.jpeg görüntüsünde herhangi bir nesne tespit edilemedi.\n"
     ]
    }
   ],
   "source": [
    "# 5. Tahmin Yapma (Inference)\n",
    "import os\n",
    "from PIL import Image\n",
    "import matplotlib.pyplot as plt\n",
    "# Test edilecek bir görüntü yolu (kendi test setinizden birini seçin)\n",
    "# Lütfen bu yolu kendi gerçek dosya adınızla değiştirin.\n",
    "# Örnek: test_image_path = os.path.join(test_images_path, 'test_image_1.jpg')\n",
    "\n",
    "# Eğer test_images_path klasöründe dosya yoksa veya örnek dosya yoksa, geçici bir dosya oluştur\n",
    "test_files = [f for f in os.listdir(test_images_path) if f.lower().endswith(('.png', '.jpg', '.jpeg'))]\n",
    "if test_files:\n",
    "    test_image_path = os.path.join(test_images_path, test_files[0])\n",
    "    print(f\"Test için ilk bulunan görüntü kullanılıyor: {test_image_path}\")\n",
    "else:\n",
    "    # Eğer test klasöründe resim yoksa, dummy bir resim oluştur\n",
    "    dummy_image_path = os.path.join(test_images_path, 'dummy_test_image.jpg')\n",
    "    Image.new('RGB', (640, 640), color='blue').save(dummy_image_path)\n",
    "    test_image_path = dummy_image_path\n",
    "    print(f\"UYARI: 'dataset/images/test/' klasöründe görüntü bulunamadı. Yer tutucu görüntü '{dummy_image_path}' oluşturuldu.\")\n",
    "    print(\"Lütfen gerçek test görüntülerinizi 'dataset/images/test/' klasörüne yerleştirin.\")\n",
    "\n",
    "# Tahmin yap\n",
    "results = model(test_image_path, conf=0.25, iou=0.45)\n",
    "\n",
    "# Tahmin sonuçlarını görselleştir\n",
    "for r in results:\n",
    "    im_array = r.plot()\n",
    "    im = Image.fromarray(im_array[..., ::-1])\n",
    "    plt.figure(figsize=(10, 10))\n",
    "    plt.imshow(im)\n",
    "    plt.title(f\"Tahmin Sonuçları: {os.path.basename(test_image_path)}\")\n",
    "    plt.axis('off')\n",
    "    plt.show()\n",
    "\n",
    "    if r.boxes:\n",
    "        print(f\"\\nTespit Edilen Nesneler ({os.path.basename(test_image_path)}):\")\n",
    "        for box in r.boxes:\n",
    "            conf = box.conf.item()\n",
    "            cls_id = int(box.cls.item())\n",
    "            class_name = class_names[cls_id]\n",
    "            xyxy = box.xyxy[0].tolist()\n",
    "            print(f\"  Sınıf: {class_name} (ID: {cls_id})\")\n",
    "            print(f\"  Güven: {conf:.2f}\")\n",
    "            print(f\"  Kutu Koordinatları (x1, y1, x2, y2): [{xyxy[0]:.2f}, {xyxy[1]:.2f}, {xyxy[2]:.2f}, {xyxy[3]:.2f}]\")\n",
    "            print(\"-\" * 20)\n",
    "    else:\n",
    "        print(f\"\\n{os.path.basename(test_image_path)} görüntüsünde herhangi bir nesne tespit edilemedi.\")\n",
    "\n",
    "# %%"
   ]
  },
  {
   "cell_type": "code",
   "execution_count": 11,
   "id": "69a0f498",
   "metadata": {},
   "outputs": [
    {
     "name": "stdout",
     "output_type": "stream",
     "text": [
      "\n",
      "image 1/1 c:\\Users\\EREN\\Desktop\\HACKATHON\\dataset\\images\\test\\harbikesik.jpeg: 640x448 (no detections), 70.8ms\n",
      "Speed: 2.3ms preprocess, 70.8ms inference, 0.7ms postprocess per image at shape (1, 3, 640, 448)\n",
      "SAĞLAM ÜRÜN: harbikesik.jpeg\n",
      "\n",
      "Bu çalıştırmada hatalı ürün tespit edilmedi.\n",
      "Rapor faulty_product_report.json adresine kaydedildi.\n"
     ]
    }
   ],
   "source": [
    "# 6. Sonuçları Raporlama\n",
    "import json\n",
    "def process_detections_and_report(image_path, results_obj, class_names_list):\n",
    "    faulty_products_info = []\n",
    "    is_image_faulty = False\n",
    "    fault_details_list = []\n",
    "\n",
    "    for r_item in results_obj:\n",
    "        if r_item.boxes:\n",
    "            for box_item in r_item.boxes:\n",
    "                conf_val = box_item.conf.item()\n",
    "                cls_id_val = int(box_item.cls.item())\n",
    "                class_name_val = class_names_list[cls_id_val]\n",
    "\n",
    "                if class_name_val != 'saglam_ped':\n",
    "                    is_image_faulty = True\n",
    "                    fault_details_list.append({\n",
    "                        'class': class_name_val,\n",
    "                        'confidence': conf_val,\n",
    "                        'bbox': box_item.xyxy[0].tolist()\n",
    "                    })\n",
    "    \n",
    "    if is_image_faulty:\n",
    "        faulty_products_info.append({\n",
    "            'image_path': image_path,\n",
    "            'faults': fault_details_list\n",
    "        })\n",
    "        print(f\"HATA TESPİT EDİLDİ: {os.path.basename(image_path)}\")\n",
    "        for fault in fault_details_list:\n",
    "            print(f\"  - Sınıf: {fault['class']}, Güven: {fault['confidence']:.2f}\")\n",
    "    else:\n",
    "        print(f\"SAĞLAM ÜRÜN: {os.path.basename(image_path)}\")\n",
    "    \n",
    "    return faulty_products_info\n",
    "\n",
    "current_results_for_report = model(test_image_path, conf=0.25, iou=0.45)\n",
    "detected_faults_report = process_detections_and_report(test_image_path, current_results_for_report, class_names)\n",
    "\n",
    "if detected_faults_report:\n",
    "    print(\"\\n--- Hatalı Ürün Raporu ---\")\n",
    "    for item_report in detected_faults_report:\n",
    "        print(f\"Görüntü: {item_report['image_path']}\")\n",
    "        for fault_report in item_report['faults']:\n",
    "            print(f\"  Hata Tipi: {fault_report['class']}, Güven: {fault_report['confidence']:.2f}\")\n",
    "        print(\"-\" * 30)\n",
    "else:\n",
    "    print(\"\\nBu çalıştırmada hatalı ürün tespit edilmedi.\")\n",
    "\n",
    "output_report_path = 'faulty_product_report.json'\n",
    "with open(output_report_path, 'w') as f:\n",
    "    json.dump(detected_faults_report, f, indent=4)\n",
    "print(f\"Rapor {output_report_path} adresine kaydedildi.\")\n",
    "\n",
    "# %%"
   ]
  },
  {
   "cell_type": "code",
   "execution_count": null,
   "id": "18bc571c",
   "metadata": {},
   "outputs": [
    {
     "name": "stdout",
     "output_type": "stream",
     "text": [
      "Model yükleniyor: eye_pad_quality_control/yolov8n_custom_dataset/weights/best.pt\n",
      "\n",
      "Model FP32 TFLite formatına dönüştürülüyor...\n",
      "Ultralytics 8.3.141  Python-3.9.13 torch-2.7.0+cpu CPU (Intel Core(TM) i7-9750H 2.60GHz)\n",
      "Model summary (fused): 72 layers, 3,006,623 parameters, 0 gradients, 8.1 GFLOPs\n",
      "\n",
      "\u001b[34m\u001b[1mPyTorch:\u001b[0m starting from 'eye_pad_quality_control\\yolov8n_custom_dataset\\weights\\best.pt' with input shape (1, 3, 640, 640) BCHW and output shape(s) (1, 9, 8400) (6.0 MB)\n",
      "\u001b[31m\u001b[1mrequirements:\u001b[0m Ultralytics requirements ['tf_keras', 'sng4onnx>=1.0.1', 'onnx_graphsurgeon>=0.3.26', 'ai-edge-litert>=1.2.0', 'onnx2tf>=1.26.3'] not found, attempting AutoUpdate...\n",
      "WARNING Retry 1/2 failed: Command 'pip install --no-cache-dir \"tf_keras\" \"sng4onnx>=1.0.1\" \"onnx_graphsurgeon>=0.3.26\" \"ai-edge-litert>=1.2.0\" \"onnx2tf>=1.26.3\" --extra-index-url https://pypi.ngc.nvidia.com' returned non-zero exit status 1.\n",
      "WARNING Retry 2/2 failed: Command 'pip install --no-cache-dir \"tf_keras\" \"sng4onnx>=1.0.1\" \"onnx_graphsurgeon>=0.3.26\" \"ai-edge-litert>=1.2.0\" \"onnx2tf>=1.26.3\" --extra-index-url https://pypi.ngc.nvidia.com' returned non-zero exit status 1.\n",
      "WARNING \u001b[31m\u001b[1mrequirements:\u001b[0m  Command 'pip install --no-cache-dir \"tf_keras\" \"sng4onnx>=1.0.1\" \"onnx_graphsurgeon>=0.3.26\" \"ai-edge-litert>=1.2.0\" \"onnx2tf>=1.26.3\" --extra-index-url https://pypi.ngc.nvidia.com' returned non-zero exit status 1.\n",
      "\n",
      "\u001b[34m\u001b[1mTensorFlow SavedModel:\u001b[0m starting export with tensorflow 2.19.0...\n",
      "\n",
      "\u001b[34m\u001b[1mONNX:\u001b[0m starting export with onnx 1.17.0 opset 19...\n",
      "\u001b[34m\u001b[1mONNX:\u001b[0m slimming with onnxslim 0.1.53...\n",
      "\u001b[34m\u001b[1mONNX:\u001b[0m export success  1.4s, saved as 'eye_pad_quality_control\\yolov8n_custom_dataset\\weights\\best.onnx' (11.8 MB)\n",
      "ERROR \u001b[34m\u001b[1mTensorFlow SavedModel:\u001b[0m export failure 16.0s: No module named 'onnx2tf'\n",
      "\n",
      "Model TFLite formatına dönüştürülürken bir hata oluştu: No module named 'onnx2tf'\n",
      "Lütfen sanal ortamınızdaki bağımlılıkların (özellikle 'tensorflow' ve 'protobuf' sürümünün) doğru ve uyumlu olduğundan emin olun.\n",
      "En yaygın hata 'protobuf' uyumsuzluğudur. Önceki yanıtta verilen kurulum adımlarını kontrol edin.\n"
     ]
    }
   ],
   "source": [
    "from ultralytics import YOLO\n",
    "model_path = 'eye_pad_quality_control/yolov8n_custom_dataset/weights/best.pt'\n",
    "model = YOLO(model_path)\n",
    "model.export(format='onnx', imgsz=640, device='cpu', simplify=True)"
   ]
  }
 ],
 "metadata": {
  "kernelspec": {
   "display_name": "yolo_env_39",
   "language": "python",
   "name": "python3"
  },
  "language_info": {
   "codemirror_mode": {
    "name": "ipython",
    "version": 3
   },
   "file_extension": ".py",
   "mimetype": "text/x-python",
   "name": "python",
   "nbconvert_exporter": "python",
   "pygments_lexer": "ipython3",
   "version": "3.9.13"
  }
 },
 "nbformat": 4,
 "nbformat_minor": 5
}
